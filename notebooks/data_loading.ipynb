{
 "cells": [
  {
   "cell_type": "code",
   "execution_count": 1,
   "metadata": {},
   "outputs": [],
   "source": [
    "import os\n",
    "import requests\n",
    "import json"
   ]
  },
  {
   "cell_type": "code",
   "execution_count": 2,
   "metadata": {},
   "outputs": [],
   "source": [
    "patients = [\n",
    "    \"Abdomen\",\n",
    "    \"Head_Neck\",\n",
    "    \"Lung\",\n",
    "    \"Prostate\"\n",
    "]"
   ]
  },
  {
   "cell_type": "code",
   "execution_count": 3,
   "metadata": {},
   "outputs": [],
   "source": [
    "plans = {\n",
    "    \"Abdomen\":[\n",
    "            \"JSu-IM103\",\n",
    "            \"JSu-IM105\"\n",
    "    ],\n",
    "    \"Head_Neck\": [\n",
    "        \"JSu-IM101\",\n",
    "        \"JSu-IM102\",\n",
    "        \"JSu-IM103\",\n",
    "        \"JSu-VA104\",\n",
    "        \"JSu-VA105\"\n",
    "    ],\n",
    "    \"Lung\": [\n",
    "       \"JSu-IM102\",\n",
    "       \"JSu-IM105\",\n",
    "       \"JSu-IM107\"\n",
    "    ],\n",
    "    \"Prostate\": [\n",
    "        \"C1-IM107\",\n",
    "        \"C1-IM108\",\n",
    "        \"C1-VA109\"\n",
    "    ]\n",
    "}"
   ]
  },
  {
   "cell_type": "code",
   "execution_count": 4,
   "metadata": {},
   "outputs": [],
   "source": [
    "tissues = {\n",
    "    \"Abdomen\": [\n",
    "        \"Bladder\",\n",
    "        \"Body\",\n",
    "        \"Bowel\",\n",
    "        \"Femur_L\",\n",
    "        \"Femur_R\",\n",
    "        \"PTV_45\",\n",
    "        \"PTV_50.4\",\n",
    "        \"Rectum\"\n",
    "    ],\n",
    "    \"Head_Neck\": [\n",
    "        \"Body\",\n",
    "        \"BrainStem\",\n",
    "        \"Larynx\",\n",
    "        \"Lips\",\n",
    "        \"Mandible\",\n",
    "        \"Parotid Right\",\n",
    "        \"PTV56\",\n",
    "        \"PTV63\",\n",
    "        \"PTV70\",\n",
    "        \"Spinal Cord\"\n",
    "    ],\n",
    "    \"Lung\": [\n",
    "        \"Body\",\n",
    "        \"Heart\",\n",
    "        \"Lung left\",\n",
    "        \"Lung right\",\n",
    "        \"Lung-GTV\",\n",
    "        \"PTV_63\",\n",
    "        \"Spinal cord\" \n",
    "    ],\n",
    "    \"Prostate\": [\n",
    "        \"Bladder\",\n",
    "        \"Body\",\n",
    "        \"prostate_bed\",\n",
    "        \"PTV_56\",\n",
    "        \"PTV_68\",\n",
    "        \"Rectum\"     \n",
    "    ],\n",
    "}"
   ]
  },
  {
   "cell_type": "code",
   "execution_count": 5,
   "metadata": {},
   "outputs": [],
   "source": [
    "images = {\n",
    "    \"Abdomen\": \"15657-Series-3-CT02\",\n",
    "    \"Head_Neck\": \"Study-1-Series-2-CT02\",\n",
    "    \"Lung\": \"1622-Series-CT01\",\n",
    "    \"Prostate\": \"S-Series-2-CT03\"\n",
    "}"
   ]
  },
  {
   "cell_type": "code",
   "execution_count": null,
   "metadata": {},
   "outputs": [],
   "source": [
    "start = 'https://junction-planreview.azurewebsites.net/api'\n",
    "\n",
    "for patient in patients:\n",
    "    if not os.path.exists(patient):\n",
    "        os.makedirs(patient)\n",
    "        os.makedirs(patient + '/plans')\n",
    "        os.makedirs(patient + '/images')\n",
    "    for plan in plans[patient]:\n",
    "        print(patient, plan)\n",
    "        if not os.path.exists('{}/plans/{}'.format(patient, plan)):\n",
    "            os.makedirs('{}/plans/{}'.format(patient, plan))\n",
    "        dosevoxels = requests.get(\n",
    "            '{}/patients/{}/plans/{}/dosevoxels'\\\n",
    "                .format(start, patient, plan)\n",
    "        ).text\n",
    "        with open('{}/plans/{}/dosevoxels'.format(patient, plan), 'w') as file:\n",
    "            file.write(dosevoxels)\n",
    "            \n",
    "        for tissue in tissues[patient]:\n",
    "            if not os.path.exists('{}/plans/{}/curves'.format(patient, plan)):\n",
    "                os.makedirs('{}/plans/{}/curves'.format(patient, plan))\n",
    "            curve = requests.get(\n",
    "                '{}/patients/{}/plans/{}/dvhcurves/{}'\n",
    "                    .format(start, patient, plan, tissue)\n",
    "            ).text\n",
    "            with open('{}/plans/{}/curves/{}'.format(patient, plan, tissue), 'w') as file:\n",
    "                file.write(curve)\n",
    "    image = images[patient]\n",
    "    for tissue in tissues[patient]:\n",
    "        contour = requests.get(\n",
    "                '{}/patients/{}/images/{}/structure-contours/{}'\\\n",
    "                    .format(start, patient, image, tissue)\n",
    "        ).text\n",
    "        with open('{}/images/{}'.format(patient, tissue), 'w') as file:\n",
    "            file.write(contour)"
   ]
  }
 ],
 "metadata": {
  "kernelspec": {
   "display_name": "Python 3",
   "language": "python",
   "name": "python3"
  },
  "language_info": {
   "codemirror_mode": {
    "name": "ipython",
    "version": 3
   },
   "file_extension": ".py",
   "mimetype": "text/x-python",
   "name": "python",
   "nbconvert_exporter": "python",
   "pygments_lexer": "ipython3",
   "version": "3.7.3"
  }
 },
 "nbformat": 4,
 "nbformat_minor": 2
}
